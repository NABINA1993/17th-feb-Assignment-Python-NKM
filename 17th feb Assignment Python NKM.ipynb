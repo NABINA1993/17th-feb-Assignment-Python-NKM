{
 "cells": [
  {
   "cell_type": "markdown",
   "id": "bee4218d",
   "metadata": {},
   "source": [
    "Q1. What is MongoDB? Explain non-relational databases in short. In which scenarios it is preferred to use \n",
    "MongoDB over SQL databases?"
   ]
  },
  {
   "cell_type": "markdown",
   "id": "4b80ec99",
   "metadata": {},
   "source": [
    "Ans:-MongoDB is a popular non-relational database system that uses a document-oriented data model. Unlike traditional relational databases like SQL, non-relational databases like MongoDB do not use tables with fixed schemas to store data. Instead, non-relational databases store data in flexible, semi-structured documents that can be easily nested and hierarchically organized.\n",
    "\n",
    "In scenarios where data is constantly changing or unstructured, non-relational databases like MongoDB can be preferable over SQL databases. This is because non-relational databases are more flexible and can handle unstructured data more easily. Non-relational databases can also be more scalable and performant, particularly when dealing with large volumes of data.\n",
    "\n",
    "MongoDB is often preferred over SQL databases in scenarios such as web applications, real-time analytics, and IoT data management. It is particularly well-suited for applications that require frequent updates and high availability. Additionally, MongoDB is known for its ease of use, flexible data model, and strong community support. However, SQL databases may be preferable in scenarios where data is highly structured, such as financial transactions or accounting data, or where complex queries are needed."
   ]
  },
  {
   "cell_type": "markdown",
   "id": "50e894ed",
   "metadata": {},
   "source": [
    "Q2. State and Explain the features of MongoDB."
   ]
  },
  {
   "cell_type": "markdown",
   "id": "b31525cf",
   "metadata": {},
   "source": [
    "Ans:-MongoDB is a popular NoSQL document-oriented database system that offers a number of features that make it a popular choice for modern application development. Some of the key features of MongoDB include:\n",
    "\n",
    "Document-oriented: MongoDB stores data in flexible, semi-structured JSON-like documents, which allows for greater flexibility and scalability.\n",
    "\n",
    "Schema-less: MongoDB does not enforce a predefined schema, which allows for more dynamic and evolving data models.\n",
    "\n",
    "High Availability: MongoDB is designed to ensure high availability, with features such as automatic failover and replica sets to provide fault tolerance.\n",
    "\n",
    "Sharding: MongoDB supports horizontal scaling through sharding, which allows for partitioning of data across multiple machines to improve performance and scalability.\n",
    "\n",
    "Aggregation framework: MongoDB provides a powerful aggregation framework that allows for complex queries and data analysis.\n",
    "\n",
    "Indexing: MongoDB supports indexing, which can improve query performance and allow for fast data retrieval.\n",
    "\n",
    "GridFS: MongoDB includes a built-in file storage system, called GridFS, which allows for efficient storage and retrieval of large files.\n",
    "\n",
    "Geospatial queries: MongoDB supports geospatial queries, allowing for efficient and accurate processing of location-based data.\n",
    "\n",
    "Ad hoc queries: MongoDB allows for ad hoc queries, making it easy to search for and retrieve data as needed.\n",
    "\n",
    "ACID Transactions: MongoDB introduced support for multi-document ACID transactions in version 4.0, making it more suitable for transactional use cases.\n",
    "\n",
    "Overall, MongoDB's features make it a versatile and scalable database system that can be used in a wide range of applications, from simple web applications to complex enterprise systems."
   ]
  },
  {
   "cell_type": "markdown",
   "id": "cbe3d484",
   "metadata": {},
   "source": [
    "Q3. Write a code to connect MongoDB to Python. Also, create a database and a collection in MongoDB."
   ]
  },
  {
   "cell_type": "markdown",
   "id": "32646446",
   "metadata": {},
   "source": [
    "Ans:-Sure! Here's an example code snippet that demonstrates how to connect to MongoDB from Python using the PyMongo driver and create a new database and collection:\n",
    "\n",
    "import pymongo\n",
    "\n",
    "#set up the client object\n",
    "\n",
    "client = pymongo.MongoClient(\"mongodb://localhost:27017/\")\n",
    "\n",
    "#create a new database\n",
    "\n",
    "mydb = client[\"mydatabase\"]\n",
    "\n",
    "#create a new collection\n",
    "\n",
    "mycol = mydb[\"customers\"]\n",
    "\n",
    "#add a new document to the collection\n",
    "\n",
    "mydict = { \"name\": \"nabin\", \"address\": \"Highway 5\" }\n",
    "x = mycol.insert_one(mydict)\n",
    "\n",
    "#print the ID of the newly inserted document\n",
    "\n",
    "print(x.inserted_id)\n",
    "\n",
    "In this example, we first import the pymongo module and create a new MongoClient object to connect to our local MongoDB server at localhost:27017. We then create a new database called \"mydatabase\" using the client object, and a new collection called \"customers\" within that database.\n",
    "\n",
    "Finally, we add a new document to the collection by creating a Python dictionary with the data we want to store, and inserting it into the collection using the insert_one() method. We print the ID of the newly inserted document using the inserted_id attribute of the InsertOneResult object returned by the insert_one() method.\n",
    "\n",
    "Note that before running this code, you will need to have MongoDB installed and running on your local machine."
   ]
  },
  {
   "cell_type": "markdown",
   "id": "25a41fdc",
   "metadata": {},
   "source": [
    "Q4. Using the database and the collection created in question number 3, write a code to insert one record, \n",
    "and insert many records. Use the find() and find_one() methods to print the inserted record."
   ]
  },
  {
   "cell_type": "code",
   "execution_count": 1,
   "id": "1788a169",
   "metadata": {},
   "outputs": [
    {
     "ename": "SyntaxError",
     "evalue": "invalid syntax (2654798719.py, line 1)",
     "output_type": "error",
     "traceback": [
      "\u001b[1;36m  Input \u001b[1;32mIn [1]\u001b[1;36m\u001b[0m\n\u001b[1;33m    Ans:-import pymongo\u001b[0m\n\u001b[1;37m         ^\u001b[0m\n\u001b[1;31mSyntaxError\u001b[0m\u001b[1;31m:\u001b[0m invalid syntax\n"
     ]
    }
   ],
   "source": [
    "Ans:-\n",
    "import pymongo\n",
    "\n",
    "# set up the client object\n",
    "client = pymongo.MongoClient(\"mongodb://localhost:27017/\")\n",
    "\n",
    "# create a reference to the \"customers\" collection\n",
    "mycol = client[\"mydatabase\"][\"customers\"]\n",
    "\n",
    "# insert one record\n",
    "mydict = { \"name\": \"Jane\", \"address\": \"Highway 38\" }\n",
    "x = mycol.insert_one(mydict)\n",
    "\n",
    "# insert many records\n",
    "mylist = [\n",
    "  { \"name\": \"Mike\", \"address\": \"Mountain 21\" },\n",
    "  { \"name\": \"Susan\", \"address\": \"Valley 345\" },\n",
    "  { \"name\": \"Tom\", \"address\": \"Park Lane 38\" }\n",
    "]\n",
    "x = mycol.insert_many(mylist)\n",
    "\n",
    "# find and print the inserted records\n",
    "for record in mycol.find():\n",
    "    print(record)\n",
    "\n",
    "# find and print a specific record using find_one()\n",
    "record = mycol.find_one({\"name\": \"Mike\"})\n",
    "print(record)"
   ]
  },
  {
   "cell_type": "markdown",
   "id": "2fff1609",
   "metadata": {},
   "source": [
    "Q5. Explain how you can use the find() method to query the MongoDB database. Write a simple code to \n",
    "demonstrate this."
   ]
  },
  {
   "cell_type": "markdown",
   "id": "4dd24dad",
   "metadata": {},
   "source": [
    "Ans:-\n",
    "The find() method in MongoDB allows you to query a collection for documents that match specific criteria. You can use the find() method to search for documents based on a variety of different query conditions, including matching specific field values, using comparison operators, and using logical operators like and and or.\n",
    "\n",
    "Here's a simple example code snippet that demonstrates how to use the find() method to search for all documents in the \"customers\" collection that have the name \"John\":\n",
    "\n",
    "python\n",
    "Copy code\n",
    "import pymongo\n",
    "\n",
    "#set up the client object\n",
    "\n",
    "client = pymongo.MongoClient(\"mongodb://localhost:27017/\")\n",
    "\n",
    "#create a reference to the \"customers\" collection\n",
    "\n",
    "mycol = client[\"mydatabase\"][\"customers\"]\n",
    "\n",
    "#search for all documents with name \"John\"\n",
    "\n",
    "query = { \"name\": \"John\" }\n",
    "results = mycol.find(query)\n",
    "\n",
    "#print the matching documents\n",
    "\n",
    "for doc in results:\n",
    "\n",
    "    print(doc)\n",
    "In this example, we first create a reference to the \"customers\" collection within the \"mydatabase\" database using the client object. We then create a query object that specifies the search criteria - in this case, we're looking for documents with the name \"John\".\n",
    "\n",
    "We then call the find() method on the collection, passing in our query object as an argument. This returns a cursor object that we can use to iterate over the matching documents.\n",
    "\n",
    "Finally, we loop over the cursor object and print each document to the console. This will print out all documents in the \"customers\" collection that have the name \"John\".\n",
    "\n",
    "Note that you can use a wide range of different query conditions with the find() method, including comparisons ($gt, $lt, etc.), logical operators ($and, $or, etc.), regular expressions ($regex), and many others. The MongoDB documentation provides a detailed overview of the available query operators and syntax."
   ]
  },
  {
   "cell_type": "markdown",
   "id": "e009c096",
   "metadata": {},
   "source": [
    "Q6. Explain the sort() method. Give an example to demonstrate sorting in MongoDB."
   ]
  },
  {
   "cell_type": "markdown",
   "id": "985d85fc",
   "metadata": {},
   "source": [
    "Ans:-In MongoDB, the sort() method is used to sort the documents in a collection based on one or more fields. The method takes one or more sort criteria, which specify the fields to sort on and the sort order (ascending or descending) for each field.\n",
    "\n",
    "Here's an example code snippet that demonstrates how to use the sort() method to sort documents in the \"customers\" collection by the \"name\" field in ascending order:\n",
    "\n",
    "python\n",
    "Copy code\n",
    "import pymongo\n",
    "\n",
    "#set up the client object\n",
    "\n",
    "client = pymongo.MongoClient(\"mongodb://localhost:27017/\")\n",
    "\n",
    "#create a reference to the \"customers\" collection\n",
    "\n",
    "mycol = client[\"mydatabase\"][\"customers\"]\n",
    "\n",
    "#sort documents by name in ascending order\n",
    "\n",
    "results = mycol.find().sort(\"name\", 1)\n",
    "\n",
    "#print the sorted documents\n",
    "\n",
    "for doc in results:\n",
    "    print(doc)\n",
    "In this example, we first create a reference to the \"customers\" collection within the \"mydatabase\" database using the client object. We then call the find() method on the collection to retrieve all documents, and use the sort() method to sort them by the \"name\" field in ascending order (the 1 argument specifies ascending order; a -1 argument would specify descending order).\n",
    "\n",
    "We then iterate over the resulting cursor object and print each document to the console. This will print out all documents in the \"customers\" collection, sorted by the \"name\" field in ascending order.\n",
    "\n",
    "Note that you can use the sort() method to sort on multiple fields by passing in multiple sort criteria as arguments. For example, mycol.find().sort((\"name\", 1), (\"age\", -1)) would sort the documents first by the \"name\" field in ascending order, and then by the \"age\" field in descending order."
   ]
  },
  {
   "cell_type": "markdown",
   "id": "6ee68ad1",
   "metadata": {},
   "source": [
    "Q7. Explain why delete_one(), delete_many(), and drop() is used."
   ]
  },
  {
   "cell_type": "markdown",
   "id": "fd82d653",
   "metadata": {},
   "source": [
    "Ans:-In MongoDB, there are several methods for removing data from a collection, including delete_one(), delete_many(), and drop(). Here's an explanation of each method:\n",
    "\n",
    "delete_one(filter) - This method is used to delete a single document from the collection that matches the specified filter criteria. If multiple documents match the filter, only the first one will be deleted.\n",
    "\n",
    "delete_many(filter) - This method is used to delete all documents from the collection that match the specified filter criteria. This can be used to delete multiple documents at once.\n",
    "\n",
    "drop() - This method is used to remove the entire collection from the database. This will permanently delete all of the documents in the collection.\n",
    "\n",
    "These methods are useful for managing data in MongoDB in a number of different ways. For example, you might use delete_one() to remove a single record from a collection, such as when a user deletes a single item from a shopping cart. delete_many() can be used to remove all records matching a specific criteria, such as when removing all items from a shopping cart at once.\n",
    "\n",
    "drop() is a more drastic method, as it removes the entire collection and all of its data from the database. This is typically used when you want to completely delete a collection and all of its data, such as when cleaning up a test database or when migrating to a new data model.\n",
    "\n",
    "It's important to use these methods carefully, as they can permanently remove data from your database. Be sure to double-check your criteria and confirm that you are deleting the right documents or collection before running these commands."
   ]
  },
  {
   "cell_type": "code",
   "execution_count": null,
   "id": "66ca6c15",
   "metadata": {},
   "outputs": [],
   "source": []
  }
 ],
 "metadata": {
  "kernelspec": {
   "display_name": "Python 3 (ipykernel)",
   "language": "python",
   "name": "python3"
  },
  "language_info": {
   "codemirror_mode": {
    "name": "ipython",
    "version": 3
   },
   "file_extension": ".py",
   "mimetype": "text/x-python",
   "name": "python",
   "nbconvert_exporter": "python",
   "pygments_lexer": "ipython3",
   "version": "3.10.5"
  }
 },
 "nbformat": 4,
 "nbformat_minor": 5
}
